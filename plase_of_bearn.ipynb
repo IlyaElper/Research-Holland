{
 "cells": [
  {
   "cell_type": "markdown",
   "metadata": {},
   "source": [
    "# import libraries"
   ]
  },
  {
   "cell_type": "code",
   "execution_count": null,
   "metadata": {},
   "outputs": [],
   "source": [
    "import sqlite3\n",
    "import pandas as pd\n",
    "from wikidata.client import Client\n",
    "import requests\n",
    "import time\n",
    "import urllib.error\n",
    "import urllib\n"
   ]
  },
  {
   "cell_type": "markdown",
   "metadata": {},
   "source": [
    "# function"
   ]
  },
  {
   "cell_type": "code",
   "execution_count": null,
   "metadata": {},
   "outputs": [],
   "source": [
    "def fetch_wikidata(params):\n",
    "    \"\"\"\n",
    "    Fetches data from the Wikidata API.\n",
    "\n",
    "    Args:\n",
    "        params (dict): The parameters to be sent with the API request.\n",
    "\n",
    "    Returns:\n",
    "        requests.Response: The response object containing the data retrieved from the API.\n",
    "\n",
    "    Raises:\n",
    "        requests.Timeout: If a timeout error occurs while making the request.\n",
    "    \"\"\"\n",
    "    url = 'https://www.wikidata.org/w/api.php'\n",
    "    try:\n",
    "        return requests.get(url, params=params, timeout=100)  # Timeout set to 100 seconds\n",
    "    except requests.Timeout:\n",
    "        print(\"Timeout error occurred. Retrying...\")\n",
    "        time.sleep(5)  # Wait a while before requesting again\n",
    "        return fetch_wikidata(params)  # Repeat request\n",
    "\n",
    "\n",
    "def name_to_place_of_birth(query,prop_id):\n",
    "    \"\"\"\n",
    "    Retrieves the place of birth for a given name using the Wikidata API.\n",
    "\n",
    "    Args:\n",
    "        query (str): The name to search for.\n",
    "\n",
    "    Returns:\n",
    "        str or None: The place of birth corresponding to the name, or None if not found.\n",
    "\n",
    "    Raises:\n",
    "        Exception: Any unexpected error during the process.\n",
    "    \"\"\"\n",
    "    params = {\n",
    "        'action': 'wbsearchentities',\n",
    "        'format': 'json',\n",
    "        'search': query,\n",
    "        'language': 'en'\n",
    "    }\n",
    "    \n",
    "    # Fetch API\n",
    "    data = fetch_wikidata(params)\n",
    "    if data is None:\n",
    "        return None\n",
    "    \n",
    "    # Show response as JSON\n",
    "    data = data.json()\n",
    "    if 'search' not in data or len(data['search']) == 0:\n",
    "        return None\n",
    "    \n",
    "    # Get the Wikidata ID of the entity\n",
    "    entity_id = data['search'][0]['id']\n",
    "    \n",
    "    # Fetch the client\n",
    "    client = Client()\n",
    "    \n",
    "    # Get the entity by ID\n",
    "    entity = client.get(entity_id, load=True)\n",
    "    print(f\"{query} is {entity.description}.\")\n",
    "   # Get the property for place of birth (P19)\n",
    "    # prop_id = 'P19'  # Property ID \"place of birth\"\n",
    "    try:\n",
    "        prop = client.get(prop_id, load=True)\n",
    "        # Get the location\n",
    "        location = entity[prop]\n",
    "    except:\n",
    "        print(f\"The property for place of birth is missing for the entity {entity_id}.\")\n",
    "        return None\n",
    "    # Return the label of the location\n",
    "    if prop_id == 'P19':\n",
    "        return location.label if location else None\n",
    "    else :\n",
    "        return location if location else None\n",
    "\n",
    "\n",
    "\n",
    "\n",
    "def get_country_by_city(city_name):\n",
    "    # Base URL for requests to GeoNames API\n",
    "    base_url = 'http://api.geonames.org/searchJSON'\n",
    "    \n",
    "    # Request parameters\n",
    "    params = {\n",
    "        'q': city_name,            # Requested city\n",
    "        'maxRows': 1,              # Maximum number of results\n",
    "        'username': 'elper.ilya'   # #FsK5KL8M!!@WRw2\n",
    "    }\n",
    "    try:\n",
    "        # Send a GET request to the API\n",
    "        response = requests.get(base_url, params=params)\n",
    "        \n",
    "        # Check the success of the request\n",
    "        if response.status_code == 200:\n",
    "            # Convert the response to JSON\n",
    "            data = response.json()\n",
    "            \n",
    "            # Check for results\n",
    "            if 'geonames' in data and data['geonames']:\n",
    "                # Extract the country name from the first result\n",
    "                return data['geonames'][0]['countryName']\n",
    "            else:\n",
    "                print(\"No results found.\")\n",
    "                return None\n",
    "        else:\n",
    "            # If the request fails, print an error message\n",
    "            print(f\"Error: {response.status_code}\")\n",
    "            return None\n",
    "    except Exception as e:\n",
    "        # Handling possible exceptions\n",
    "        print(f\"An error occurred: {e}\")\n",
    "        return None\n"
   ]
  },
  {
   "cell_type": "markdown",
   "metadata": {},
   "source": [
    "# load data base"
   ]
  },
  {
   "cell_type": "code",
   "execution_count": null,
   "metadata": {},
   "outputs": [],
   "source": [
    "conn = sqlite3.connect('2012_to_2017_deputat_speakers.db')\n",
    "query = \"SELECT * FROM filtered_rows\"  \n",
    "filtered_rows = pd.read_sql(query, conn)\n",
    "conn.close()"
   ]
  },
  {
   "cell_type": "markdown",
   "metadata": {},
   "source": [
    "# city of birth from wikidata"
   ]
  },
  {
   "cell_type": "code",
   "execution_count": null,
   "metadata": {},
   "outputs": [],
   "source": [
    "filtered_rows['speaker_name'] = filtered_rows['speaker_name'].str.title()\n",
    "speakers = filtered_rows['speaker_name'].unique()\n",
    "places_of_birth = []\n",
    "\n",
    "for name in speakers:\n",
    "    while True:  # Infinite loop for repeating requests\n",
    "        try:\n",
    "            print(name)\n",
    "            place_of_birth = name_to_place_of_birth(name,'P19')\n",
    "            print(f\"was born in {place_of_birth}\")\n",
    "            places_of_birth.append(place_of_birth)\n",
    "            break  # Exit the loop if the request is successful\n",
    "        except urllib.error.URLError as e:\n",
    "            print(f\"Error when requesting for {name}: {e}\")\n",
    "            # Add a delay before retrying the request\n",
    "            time.sleep(5)  # Wait 5 seconds before trying again\n",
    "    print('#'*50)        "
   ]
  },
  {
   "cell_type": "code",
   "execution_count": null,
   "metadata": {},
   "outputs": [],
   "source": [
    "speakers_place_of_birth = pd.DataFrame({'speakers': speakers, 'place_of_birth': places_of_birth})\n",
    "speakers_place_of_birth.loc[speakers_place_of_birth['speakers']=='Tamara Venrooy-Van Ark','place_of_birth']=\"The Hague\"\n",
    "speakers_place_of_birth.loc[speakers_place_of_birth['speakers']=='Paulus Jansen','place_of_birth']=\"Roermond\"\n",
    "speakers_place_of_birth.loc[speakers_place_of_birth['speakers']=='Eddy Van Hijum','place_of_birth']=\"Delft\"\n",
    "speakers_place_of_birth.loc[speakers_place_of_birth['speakers']=='René Leegte','place_of_birth']=\"The Hague\"\n",
    "speakers_place_of_birth.loc[speakers_place_of_birth['speakers']=='Foort Van Oosten','place_of_birth']=\"Dordrecht\"\n",
    "speakers_place_of_birth.loc[speakers_place_of_birth['speakers']=='Albert De Vries','place_of_birth']=\"Middelburg\"\n",
    "speakers_place_of_birth.loc[speakers_place_of_birth['speakers']=='Johan Houwers','place_of_birth']=\"Winterswijk\"\n",
    "speakers_place_of_birth.loc[speakers_place_of_birth['speakers']=='Joost Taverne','place_of_birth']=\"Amstelveen\"\n",
    "speakers_place_of_birth.loc[speakers_place_of_birth['speakers']=='Van Der Stoep','place_of_birth']=\"Delft\"\n",
    "speakers_place_of_birth.loc[speakers_place_of_birth['speakers']=='Hayke Siebold Veldman','place_of_birth']=\"Zoetermeer\"\n",
    "speakers_place_of_birth.loc[speakers_place_of_birth['speakers']=='Jock Geselschap','place_of_birth']=\"Johannesburg\"\n",
    "speakers_place_of_birth.loc[speakers_place_of_birth['speakers']=='Zihni Özdil','place_of_birth']=\"Kozakli\"\n",
    "speakers_place_of_birth.loc[speakers_place_of_birth['speakers']=='Tom Van Der Lee','place_of_birth']=\"Silvolde\"\n",
    "speakers_place_of_birth.loc[speakers_place_of_birth['speakers']=='Sophia Theodora Marianne Hermans','place_of_birth']=\"Nijmegen\"\n",
    "speakers_place_of_birth.loc[speakers_place_of_birth['speakers']=='Rens Raemakers','place_of_birth']=\" Neer\"\n",
    "speakers_place_of_birth.loc[speakers_place_of_birth['speakers']=='Maarten Groothuizen','place_of_birth']=\"Nijmegen\"\n",
    "speakers_place_of_birth.loc[speakers_place_of_birth['speakers']=='Isabelle Diks','place_of_birth']=\"Heerlen\"\n",
    "speakers_place_of_birth.loc[speakers_place_of_birth['speakers']=='Harry Van Der Molen','place_of_birth']=\"Kootstertille\"\n",
    "speakers_place_of_birth.loc[speakers_place_of_birth['speakers']=='Suzanne Kröger','place_of_birth']=\"Amsterdam\"\n",
    "speakers_place_of_birth.loc[speakers_place_of_birth['speakers']=='Zohair El Yassini','place_of_birth']=\"Utrecht\"\n",
    "speakers_place_of_birth.loc[speakers_place_of_birth['speakers']=='Bart Snels','place_of_birth']=\"Roosendaal\"\n",
    "speakers_place_of_birth.loc[speakers_place_of_birth['speakers']=='Jan Middendorp','place_of_birth']=\"Amsterdam\"\n",
    "speakers_place_of_birth.loc[speakers_place_of_birth['speakers']=='Antje Diertens','place_of_birth']=\"Grunnen\"\n",
    "speakers_place_of_birth.loc[speakers_place_of_birth['speakers']=='Albert Van Den Bosch','place_of_birth']=\"Zeist\"\n",
    "speakers_place_of_birth.loc[speakers_place_of_birth['speakers']=='Tjeenk Willink','place_of_birth']=\"Amsterdam\"\n",
    "speakers_place_of_birth.loc[speakers_place_of_birth['speakers']=='Martin Wörsdörfer','place_of_birth']=\"Enschede\"\n",
    "# speakers_place_of_birth.loc[speakers_place_of_birth['speakers']=='','place_of_birth']=\"\"\n",
    "speakers_place_of_birth=speakers_place_of_birth.dropna()\n",
    "speakers_place_of_birth['place_of_birth'] = speakers_place_of_birth['place_of_birth'].astype(str)\n"
   ]
  },
  {
   "cell_type": "markdown",
   "metadata": {},
   "source": [
    "# country of birth from geonames"
   ]
  },
  {
   "cell_type": "code",
   "execution_count": null,
   "metadata": {},
   "outputs": [],
   "source": [
    "country_of_birth = []\n",
    "for city  in speakers_place_of_birth['place_of_birth']:\n",
    "    while True:  # Infinite loop for repeating requests\n",
    "        try:\n",
    "            print(city)\n",
    "            country = get_country_by_city(city)\n",
    "            if country:\n",
    "                print(f\"The country of {city} is {country}\")\n",
    "            else:\n",
    "                print(\"Failed to retrieve country information.\")\n",
    "            country_of_birth.append(country)\n",
    "            break  # Exit the loop if the request is successful\n",
    "        except urllib.error.URLError as e:\n",
    "            print(f\"Error when requesting for {name}: {e}\")\n",
    "            # Add a delay before retrying the request\n",
    "            time.sleep(5)  # Wait 5 seconds before trying again\n",
    "speakers_place_of_birth['country_of_birth']=country_of_birth\n"
   ]
  },
  {
   "cell_type": "markdown",
   "metadata": {},
   "source": [
    "# date of birth from wikidata"
   ]
  },
  {
   "cell_type": "code",
   "execution_count": null,
   "metadata": {},
   "outputs": [],
   "source": [
    "dates_of_birth = []\n",
    "\n",
    "for name in speakers_place_of_birth['speakers']:\n",
    "    while True:  # Infinite loop for repeating requests\n",
    "        try:\n",
    "            print(name)\n",
    "            date_of_birth = name_to_place_of_birth(name,'P569')\n",
    "            print(f\"was born in {date_of_birth}\")\n",
    "            dates_of_birth.append(date_of_birth)\n",
    "            break  # Exit the loop if the request is successful\n",
    "        except urllib.error.URLError as e:\n",
    "            print(f\"Error when requesting for {name}: {e}\")\n",
    "            # Add a delay before retrying the request\n",
    "            time.sleep(5)  # Wait 5 seconds before trying again\n",
    "    print('#'*50)     \n",
    "speakers_place_of_birth['dates_of_birth']=dates_of_birth\n"
   ]
  },
  {
   "cell_type": "markdown",
   "metadata": {},
   "source": [
    "# filtering by country of birth"
   ]
  },
  {
   "cell_type": "code",
   "execution_count": null,
   "metadata": {},
   "outputs": [],
   "source": [
    "speakers_place_of_birth['target person'] = speakers_place_of_birth['country_of_birth'].apply(lambda x: True if x != 'The Netherlands' else False)\n"
   ]
  },
  {
   "cell_type": "markdown",
   "metadata": {},
   "source": [
    "# save  to db table speakers_place_of_birth"
   ]
  },
  {
   "cell_type": "code",
   "execution_count": null,
   "metadata": {},
   "outputs": [],
   "source": [
    "# Establish connection to the database\n",
    "conn = sqlite3.connect('2012_to_2017_deputat_speakers.db')\n",
    "# Save DataFrame to the database\n",
    "# filtered_rows.to_sql('filtered_rows', conn, if_exists='replace', index=False)\n",
    "speakers_place_of_birth.to_sql('speakers_place_of_birth', conn, if_exists='replace', index=False)\n",
    "# Close the connection\n",
    "conn.close()"
   ]
  }
 ],
 "metadata": {
  "kernelspec": {
   "display_name": "Python 3",
   "language": "python",
   "name": "python3"
  },
  "language_info": {
   "name": "python",
   "version": "3.11.8"
  }
 },
 "nbformat": 4,
 "nbformat_minor": 2
}
