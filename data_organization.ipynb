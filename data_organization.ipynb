{
 "cells": [
  {
   "cell_type": "markdown",
   "metadata": {},
   "source": [
    "# import libraries"
   ]
  },
  {
   "cell_type": "code",
   "execution_count": 1,
   "metadata": {},
   "outputs": [],
   "source": [
    "import sqlite3\n",
    "import pandas as pd\n"
   ]
  },
  {
   "cell_type": "markdown",
   "metadata": {},
   "source": [
    "# load data base"
   ]
  },
  {
   "cell_type": "code",
   "execution_count": null,
   "metadata": {},
   "outputs": [],
   "source": [
    "# Connecting to the SQLite database\n",
    "db_file = \"speeches.db\"\n",
    "conn = sqlite3.connect(db_file)\n",
    "# Querying data from the database\n",
    "query = \"SELECT * FROM speeches\"\n",
    "# Reading data from the database into a DataFrame\n",
    "df = pd.read_sql_query(query, conn)\n",
    "# Closing the database connection\n",
    "conn.close()"
   ]
  },
  {
   "cell_type": "markdown",
   "metadata": {},
   "source": [
    "# correcting names"
   ]
  },
  {
   "cell_type": "code",
   "execution_count": null,
   "metadata": {},
   "outputs": [],
   "source": [
    "# List of words to filter out from speaker names\n",
    "words = ['Voorzitter', 'voorzitter','Biesheuvel-Vermeijden','Hammerstein','Herdé','Stuiveling','Sneek','Ruiz-Maduro',\n",
    "         'Hamilton','Sulvaran','De Sousa-Croes','Van Dooren','Dammers','Brenninkmeijer','Van Dijk','Scheltema']\n",
    "# Initialize a Series of False values with the same length as df\n",
    "condition = pd.Series([False]*len(df))\n",
    "# Iterate over each word in the list and update the condition Series\n",
    "for word in words:\n",
    "    condition = condition | df['speaker_name'].str.contains(word)\n",
    "# Filter out the rows that meet the condition\n",
    "filtered_rows = df.loc[~condition].copy()\n",
    "\n",
    "filtered_rows.loc[filtered_rows['speaker_name']=='Baudet','party']='FVD'\n",
    "filtered_rows.loc[filtered_rows['speaker_name']=='Baudet','speaker_name']='Thierry Baudet'\n",
    "\n",
    "filtered_rows.loc[filtered_rows['speaker_name']=='Kamp','party']='Regering'\n",
    "filtered_rows.loc[filtered_rows['speaker_name']=='Kamp','speaker_name']='Henk Kamp'\n",
    "\n",
    "#\n",
    "filtered_rows.loc[filtered_rows['speaker_name']=='Bos','party']='PvdA'\n",
    "filtered_rows.loc[filtered_rows['speaker_name']=='Bos','speaker_name']='Wouter Bos'\n",
    "#\n",
    "\n",
    "filtered_rows.loc[filtered_rows['speaker_name']=='Schippers','party']='Regering'\n",
    "filtered_rows.loc[filtered_rows['speaker_name']=='Schippers','speaker_name']='Edith Schippers'\n",
    "\n",
    "filtered_rows.loc[filtered_rows['speaker_name']=='Schippers','party']='Regering'\n",
    "filtered_rows.loc[filtered_rows['speaker_name']=='Schippers','speaker_name']='Edith Schippers'\n",
    "#\n",
    "filtered_rows.loc[filtered_rows['speaker_name']=='Tjeenk Willink','party']='PvdA'\n",
    "\n",
    "#https://en.wikipedia.org/wiki/Martijn_van_Dam\n",
    "filtered_rows.loc[filtered_rows['speaker_name']=='Van Dam','party']='PvdA'\n",
    "filtered_rows.loc[filtered_rows['speaker_name']=='Van Dam','speaker_name']='Martijn van Dam'\n",
    "\n",
    "filtered_rows.loc[filtered_rows['speaker_name']=='Berman','party']='PvdA'\n",
    "filtered_rows.loc[filtered_rows['speaker_name']=='Berman','speaker_name']='Thijs Berman'\n",
    "\n",
    "# Alfonso Boekhoudt\n",
    "filtered_rows.loc[filtered_rows['speaker_name']=='Boekhoudt','speaker_name']='Alfonso Boekhoudt'\n",
    "#Dennis de Jong\n",
    "filtered_rows.loc[filtered_rows['speaker_name']=='De Jong','speaker_name']='Dennis de Jong'\n",
    "#Bas Eickhout\n",
    "filtered_rows.loc[filtered_rows['speaker_name']=='Eickhout','speaker_name']='Bas Eickhout'\n",
    "#Gerben-Jan Gerbrandy\n",
    "filtered_rows.loc[filtered_rows['speaker_name']=='Gerbrandy','speaker_name']='Gerben-Jan Gerbrandy'\n",
    "#Anja Hazekamp\n",
    "filtered_rows.loc[filtered_rows['speaker_name']=='Hazekamp','speaker_name']='Anja Hazekamp'\n",
    "#Sap  \n",
    "filtered_rows.loc[filtered_rows['speaker_name']=='Sap','speaker_name']='Jolande Sap'\n",
    "#Tamara Venrooy-Van Ark\n",
    "filtered_rows.loc[filtered_rows['speaker_name']=='Tamara Venrooy-Van Ark','speaker_name']='Tamara van Ark'\n",
    "#Astrid Oosenbrug\n",
    "filtered_rows.loc[filtered_rows['speaker_name']=='Astrid Oosenbrug-Blokland','speaker_name']='Astrid Oosenbrug'\n",
    "#Rutte\n",
    "filtered_rows.loc[filtered_rows['speaker_name']=='Rutte','speaker_name']='Mark Rutte'\n",
    "#Moors\n",
    "filtered_rows.loc[filtered_rows['speaker_name']=='Moors','speaker_name']='Perjan Moors'\n",
    "#Krol\n",
    "filtered_rows.loc[filtered_rows['speaker_name']=='Krol','speaker_name']='Henk Krol'\n",
    "#Klein\n",
    "filtered_rows.loc[filtered_rows['speaker_name']=='Klein','speaker_name']='Norbert Klein'\n",
    "\n",
    "\n",
    "filtered_rows=filtered_rows.dropna()"
   ]
  },
  {
   "cell_type": "markdown",
   "metadata": {},
   "source": [
    "# correcting party"
   ]
  },
  {
   "cell_type": "code",
   "execution_count": 2,
   "metadata": {},
   "outputs": [],
   "source": [
    "conn = sqlite3.connect('2012_to_2017_deputat_speakers.db')\n",
    "query = \"SELECT * FROM filtered_rows\"  \n",
    "filtered_rows = pd.read_sql(query, conn)\n",
    "conn.close()"
   ]
  },
  {
   "cell_type": "code",
   "execution_count": 13,
   "metadata": {},
   "outputs": [],
   "source": [
    "\n",
    "\n",
    "filtered_rows['party']=filtered_rows['party'].str.replace('EP/', \"\")\n",
    "filtered_rows['party']=filtered_rows['party'].str.replace('Lid', \"\")\n",
    "filtered_rows['party'] = filtered_rows['party'].str.split('/').str[0]\n",
    "filtered_rows.loc[filtered_rows['party']=='Forum voor Democratie','party']='FvD'\n",
    "filtered_rows['party'] = filtered_rows['party'].str.title()\n",
    "filtered_rows.loc[filtered_rows['party']=='Fractie-Monasch','party']='Pvda'\n",
    "filtered_rows.loc[filtered_rows['party']=='Klein','party']='50Plus'\n",
    "filtered_rows.loc[filtered_rows['party']=='Lid Klein','party']='50Plus'\n",
    "filtered_rows.loc[filtered_rows['party']=='Groep-Kuzu','party']='Denk'\n",
    "filtered_rows.loc[filtered_rows['party']=='Christenunie','party']='Cu'\n",
    "filtered_rows['party']=filtered_rows['party'].str.replace(' ', \"\")\n",
    "filtered_rows.loc[filtered_rows['party']=='Bontes','party']='Bnl'\n",
    "speakers = filtered_rows['party'].unique()\n"
   ]
  },
  {
   "cell_type": "markdown",
   "metadata": {},
   "source": [
    "# save  to db table filtered_rows"
   ]
  },
  {
   "cell_type": "code",
   "execution_count": 14,
   "metadata": {},
   "outputs": [],
   "source": [
    "# Establish connection to the database\n",
    "conn = sqlite3.connect('2012_to_2017_deputat_speakers.db')\n",
    "# Save DataFrame to the database\n",
    "filtered_rows.to_sql('filtered_rows', conn, if_exists='replace', index=False)\n",
    "# speakers_place_of_birth.to_sql('speakers_place_of_birth', conn, if_exists='replace', index=False)\n",
    "# Close the connection\n",
    "conn.close()\n"
   ]
  }
 ],
 "metadata": {
  "kernelspec": {
   "display_name": "Python 3",
   "language": "python",
   "name": "python3"
  },
  "language_info": {
   "codemirror_mode": {
    "name": "ipython",
    "version": 3
   },
   "file_extension": ".py",
   "mimetype": "text/x-python",
   "name": "python",
   "nbconvert_exporter": "python",
   "pygments_lexer": "ipython3",
   "version": "3.11.8"
  }
 },
 "nbformat": 4,
 "nbformat_minor": 2
}
