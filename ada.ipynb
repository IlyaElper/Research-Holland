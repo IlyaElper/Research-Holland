{
 "cells": [
  {
   "cell_type": "code",
   "execution_count": 4,
   "metadata": {},
   "outputs": [],
   "source": [
    "import sqlite3\n",
    "import pandas as pd"
   ]
  },
  {
   "cell_type": "code",
   "execution_count": 5,
   "metadata": {},
   "outputs": [],
   "source": [
    "# Connecting to the SQLite database\n",
    "db_file = \"speeches.db\"\n",
    "conn = sqlite3.connect(db_file)\n",
    "\n",
    "# Querying data from the database\n",
    "query = \"SELECT * FROM speeches\"\n",
    "\n",
    "# Reading data from the database into a DataFrame\n",
    "df = pd.read_sql_query(query, conn)\n",
    "\n",
    "# Closing the database connection\n",
    "conn.close()"
   ]
  },
  {
   "cell_type": "code",
   "execution_count": 13,
   "metadata": {},
   "outputs": [
    {
     "name": "stderr",
     "output_type": "stream",
     "text": [
      "C:\\Users\\elper\\AppData\\Local\\Temp\\ipykernel_28656\\617168076.py:11: SettingWithCopyWarning: \n",
      "A value is trying to be set on a copy of a slice from a DataFrame\n",
      "\n",
      "See the caveats in the documentation: https://pandas.pydata.org/pandas-docs/stable/user_guide/indexing.html#returning-a-view-versus-a-copy\n",
      "  filtered_rows.loc[filtered_rows['speaker_name']=='Baudet','party']='FVD'\n",
      "C:\\Users\\elper\\AppData\\Local\\Temp\\ipykernel_28656\\617168076.py:12: SettingWithCopyWarning: \n",
      "A value is trying to be set on a copy of a slice from a DataFrame\n",
      "\n",
      "See the caveats in the documentation: https://pandas.pydata.org/pandas-docs/stable/user_guide/indexing.html#returning-a-view-versus-a-copy\n",
      "  filtered_rows.loc[filtered_rows['speaker_name']=='Baudet','speaker_name']='Thierry Baudet'\n",
      "C:\\Users\\elper\\AppData\\Local\\Temp\\ipykernel_28656\\617168076.py:14: SettingWithCopyWarning: \n",
      "A value is trying to be set on a copy of a slice from a DataFrame\n",
      "\n",
      "See the caveats in the documentation: https://pandas.pydata.org/pandas-docs/stable/user_guide/indexing.html#returning-a-view-versus-a-copy\n",
      "  filtered_rows.loc[filtered_rows['speaker_name']=='Kamp','party']='Regering'\n",
      "C:\\Users\\elper\\AppData\\Local\\Temp\\ipykernel_28656\\617168076.py:15: SettingWithCopyWarning: \n",
      "A value is trying to be set on a copy of a slice from a DataFrame\n",
      "\n",
      "See the caveats in the documentation: https://pandas.pydata.org/pandas-docs/stable/user_guide/indexing.html#returning-a-view-versus-a-copy\n",
      "  filtered_rows.loc[filtered_rows['speaker_name']=='Kamp','speaker_name']='Henk Kamp'\n",
      "C:\\Users\\elper\\AppData\\Local\\Temp\\ipykernel_28656\\617168076.py:18: SettingWithCopyWarning: \n",
      "A value is trying to be set on a copy of a slice from a DataFrame\n",
      "\n",
      "See the caveats in the documentation: https://pandas.pydata.org/pandas-docs/stable/user_guide/indexing.html#returning-a-view-versus-a-copy\n",
      "  filtered_rows.loc[filtered_rows['speaker_name']=='Bos','party']='PvdA'\n",
      "C:\\Users\\elper\\AppData\\Local\\Temp\\ipykernel_28656\\617168076.py:19: SettingWithCopyWarning: \n",
      "A value is trying to be set on a copy of a slice from a DataFrame\n",
      "\n",
      "See the caveats in the documentation: https://pandas.pydata.org/pandas-docs/stable/user_guide/indexing.html#returning-a-view-versus-a-copy\n",
      "  filtered_rows.loc[filtered_rows['speaker_name']=='Bos','speaker_name']='Wouter Bos'\n",
      "C:\\Users\\elper\\AppData\\Local\\Temp\\ipykernel_28656\\617168076.py:22: SettingWithCopyWarning: \n",
      "A value is trying to be set on a copy of a slice from a DataFrame\n",
      "\n",
      "See the caveats in the documentation: https://pandas.pydata.org/pandas-docs/stable/user_guide/indexing.html#returning-a-view-versus-a-copy\n",
      "  filtered_rows.loc[filtered_rows['speaker_name']=='Schippers','party']='Regering'\n",
      "C:\\Users\\elper\\AppData\\Local\\Temp\\ipykernel_28656\\617168076.py:23: SettingWithCopyWarning: \n",
      "A value is trying to be set on a copy of a slice from a DataFrame\n",
      "\n",
      "See the caveats in the documentation: https://pandas.pydata.org/pandas-docs/stable/user_guide/indexing.html#returning-a-view-versus-a-copy\n",
      "  filtered_rows.loc[filtered_rows['speaker_name']=='Schippers','speaker_name']='Edith Schippers'\n",
      "C:\\Users\\elper\\AppData\\Local\\Temp\\ipykernel_28656\\617168076.py:26: SettingWithCopyWarning: \n",
      "A value is trying to be set on a copy of a slice from a DataFrame\n",
      "\n",
      "See the caveats in the documentation: https://pandas.pydata.org/pandas-docs/stable/user_guide/indexing.html#returning-a-view-versus-a-copy\n",
      "  filtered_rows.loc[filtered_rows['speaker_name']=='Tjeenk Willink','party']='PvdA'\n"
     ]
    }
   ],
   "source": [
    "# List of words to filter out from speaker names\n",
    "words = ['Voorzitter', 'voorzitter','Biesheuvel-Vermeijden','Hammerstein','Herdé','Stuiveling','Sneek','Ruiz-Maduro','Hamilton','Sulvaran','De Sousa-Croes','Van Dooren',]\n",
    "# Initialize a Series of False values with the same length as df\n",
    "condition = pd.Series([False]*len(df))\n",
    "# Iterate over each word in the list and update the condition Series\n",
    "for word in words:\n",
    "    condition = condition | df['speaker_name'].str.contains(word)\n",
    "# Filter out the rows that meet the condition\n",
    "filtered_rows = df.loc[~condition]\n",
    "\n",
    "filtered_rows.loc[filtered_rows['speaker_name']=='Baudet','party']='FVD'\n",
    "filtered_rows.loc[filtered_rows['speaker_name']=='Baudet','speaker_name']='Thierry Baudet'\n",
    "\n",
    "filtered_rows.loc[filtered_rows['speaker_name']=='Kamp','party']='Regering'\n",
    "filtered_rows.loc[filtered_rows['speaker_name']=='Kamp','speaker_name']='Henk Kamp'\n",
    "\n",
    "#\n",
    "filtered_rows.loc[filtered_rows['speaker_name']=='Bos','party']='PvdA'\n",
    "filtered_rows.loc[filtered_rows['speaker_name']=='Bos','speaker_name']='Wouter Bos'\n",
    "#\n",
    "\n",
    "filtered_rows.loc[filtered_rows['speaker_name']=='Schippers','party']='Regering'\n",
    "filtered_rows.loc[filtered_rows['speaker_name']=='Schippers','speaker_name']='Edith Schippers'\n",
    "\n",
    "#\n",
    "filtered_rows.loc[filtered_rows['speaker_name']=='Tjeenk Willink','party']='PvdA'\n",
    "\n"
   ]
  },
  {
   "cell_type": "code",
   "execution_count": 14,
   "metadata": {},
   "outputs": [
    {
     "data": {
      "text/plain": [
       "speaker_name\n",
       "Van Dam           1186\n",
       "Dammers              2\n",
       "Brenninkmeijer       1\n",
       "Van Dijk             1\n",
       "Smit                 1\n",
       "Scheltema            1\n",
       "Name: count, dtype: int64"
      ]
     },
     "execution_count": 14,
     "metadata": {},
     "output_type": "execute_result"
    }
   ],
   "source": [
    "filtered_rows.loc[filtered_rows['party'].isnull(),'speaker_name'].value_counts()"
   ]
  },
  {
   "cell_type": "code",
   "execution_count": null,
   "metadata": {},
   "outputs": [],
   "source": []
  }
 ],
 "metadata": {
  "kernelspec": {
   "display_name": "Python 3",
   "language": "python",
   "name": "python3"
  },
  "language_info": {
   "codemirror_mode": {
    "name": "ipython",
    "version": 3
   },
   "file_extension": ".py",
   "mimetype": "text/x-python",
   "name": "python",
   "nbconvert_exporter": "python",
   "pygments_lexer": "ipython3",
   "version": "3.11.8"
  }
 },
 "nbformat": 4,
 "nbformat_minor": 2
}
